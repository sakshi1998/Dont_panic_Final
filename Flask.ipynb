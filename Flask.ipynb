{
 "cells": [
  {
   "cell_type": "code",
   "execution_count": 1,
   "metadata": {},
   "outputs": [
    {
     "name": "stderr",
     "output_type": "stream",
     "text": [
      "C:\\Users\\Payal\\Anaconda3\\lib\\site-packages\\h5py\\__init__.py:34: FutureWarning: Conversion of the second argument of issubdtype from `float` to `np.floating` is deprecated. In future, it will be treated as `np.float64 == np.dtype(float).type`.\n",
      "  from ._conv import register_converters as _register_converters\n",
      "Using TensorFlow backend.\n"
     ]
    }
   ],
   "source": [
    "import pandas as pd\n",
    "import numpy as np\n",
    "import nltk\n",
    "import re\n",
    "from nltk.corpus import stopwords\n",
    "from nltk.stem.porter import PorterStemmer\n",
    "from sklearn.feature_extraction.text import TfidfVectorizer\n",
    "import keras.preprocessing.text as kpt\n",
    "import pickle\n",
    "from keras.preprocessing.text import Tokenizer\n",
    "from nltk.tokenize import sent_tokenize, word_tokenize\n",
    "from nltk.corpus import stopwords, wordnet\n",
    "from nltk.stem import PorterStemmer, WordNetLemmatizer\n",
    "from nltk import pos_tag, ne_chunk\n",
    "from flask import Flask,abort,jsonify,request"
   ]
  },
  {
   "cell_type": "code",
   "execution_count": 2,
   "metadata": {
    "collapsed": true
   },
   "outputs": [],
   "source": [
    "new=open(\"tfidfvectorizer.pickle\",\"rb\")\n",
    "tfidf_vec=pickle.load(new)\n",
    "new.close()\n",
    "\n",
    "new=open(\"minor2.pickle\",\"rb\")\n",
    "clf=pickle.load(new)\n",
    "new.close()"
   ]
  },
  {
   "cell_type": "code",
   "execution_count": 3,
   "metadata": {
    "collapsed": true
   },
   "outputs": [],
   "source": [
    "stops = set(stopwords.words('english'))\n",
    "stops.update(\":\", \".\", \"!\", \"?\", '\"', \"'\", \"-\", \"(\", \")\", \",\", \"$\", \"@\", \";\", \"#\", \"&\", \"0\", \"1\", \"2\", \"3\", \"4\", \"5\", \"6\", \"7\", \"8\", \"9\")"
   ]
  },
  {
   "cell_type": "code",
   "execution_count": 4,
   "metadata": {
    "collapsed": true
   },
   "outputs": [],
   "source": [
    "def get_simple_pos(tag):\n",
    "    if tag.startswith('J'):\n",
    "        return wordnet.ADJ\n",
    "    elif tag.startswith('V'):\n",
    "        return wordnet.VERB\n",
    "    elif tag.startswith('N'):\n",
    "        return wordnet.NOUN\n",
    "    elif tag.startswith('R'):\n",
    "        return wordnet.ADV\n",
    "    else:\n",
    "        return wordnet.NOUN\n",
    "    \n",
    "lemmatizer = WordNetLemmatizer()\n",
    "\n",
    "def clean_data(data):\n",
    "    meaningful_words = []\n",
    "    \n",
    "    for w in data:\n",
    "        \n",
    "        if w.lower() not in stops:\n",
    "            pos = pos_tag([w])\n",
    "            n_word = lemmatizer.lemmatize(w, pos = get_simple_pos(pos[0][1]))\n",
    "            meaningful_words.append(n_word.lower())\n",
    "            \n",
    "    return (\" \".join(meaningful_words))"
   ]
  },
  {
   "cell_type": "code",
   "execution_count": null,
   "metadata": {
    "scrolled": true
   },
   "outputs": [
    {
     "name": "stderr",
     "output_type": "stream",
     "text": [
      " * Running on http://0.0.0.0:9000/ (Press CTRL+C to quit)\n",
      "C:\\Users\\Payal\\Anaconda3\\lib\\site-packages\\sklearn\\feature_extraction\\text.py:1059: FutureWarning: Conversion of the second argument of issubdtype from `float` to `np.floating` is deprecated. In future, it will be treated as `np.float64 == np.dtype(float).type`.\n",
      "  if hasattr(X, 'dtype') and np.issubdtype(X.dtype, np.float):\n",
      "192.168.43.1 - - [08/May/2018 14:35:47] \"\u001b[37mPOST /api HTTP/1.1\u001b[0m\" 200 -\n",
      "192.168.43.1 - - [08/May/2018 14:35:48] \"\u001b[37mPOST /api HTTP/1.1\u001b[0m\" 200 -\n",
      "192.168.43.1 - - [08/May/2018 14:35:48] \"\u001b[37mPOST /api HTTP/1.1\u001b[0m\" 200 -\n",
      "192.168.43.1 - - [08/May/2018 14:35:48] \"\u001b[37mPOST /api HTTP/1.1\u001b[0m\" 200 -\n",
      "192.168.43.1 - - [08/May/2018 14:35:48] \"\u001b[37mPOST /api HTTP/1.1\u001b[0m\" 200 -\n",
      "192.168.43.1 - - [08/May/2018 14:35:48] \"\u001b[37mPOST /api HTTP/1.1\u001b[0m\" 200 -\n",
      "192.168.43.1 - - [08/May/2018 14:35:48] \"\u001b[37mPOST /api HTTP/1.1\u001b[0m\" 200 -\n",
      "192.168.43.1 - - [08/May/2018 14:35:49] \"\u001b[37mPOST /api HTTP/1.1\u001b[0m\" 200 -\n",
      "192.168.43.1 - - [08/May/2018 14:35:49] \"\u001b[37mPOST /api HTTP/1.1\u001b[0m\" 200 -\n",
      "192.168.43.1 - - [08/May/2018 14:35:49] \"\u001b[37mPOST /api HTTP/1.1\u001b[0m\" 200 -\n",
      "192.168.43.1 - - [08/May/2018 14:35:50] \"\u001b[37mPOST /api HTTP/1.1\u001b[0m\" 200 -\n",
      "192.168.43.1 - - [08/May/2018 14:35:50] \"\u001b[37mPOST /api HTTP/1.1\u001b[0m\" 200 -\n",
      "192.168.43.1 - - [08/May/2018 14:35:50] \"\u001b[37mPOST /api HTTP/1.1\u001b[0m\" 200 -\n",
      "192.168.43.1 - - [08/May/2018 14:35:50] \"\u001b[37mPOST /api HTTP/1.1\u001b[0m\" 200 -\n",
      "192.168.43.1 - - [08/May/2018 14:35:50] \"\u001b[37mPOST /api HTTP/1.1\u001b[0m\" 200 -\n",
      "192.168.43.1 - - [08/May/2018 14:35:50] \"\u001b[37mPOST /api HTTP/1.1\u001b[0m\" 200 -\n",
      "192.168.43.1 - - [08/May/2018 14:35:51] \"\u001b[37mPOST /api HTTP/1.1\u001b[0m\" 200 -\n",
      "192.168.43.1 - - [08/May/2018 14:35:51] \"\u001b[37mPOST /api HTTP/1.1\u001b[0m\" 200 -\n",
      "192.168.43.1 - - [08/May/2018 14:35:51] \"\u001b[37mPOST /api HTTP/1.1\u001b[0m\" 200 -\n",
      "192.168.43.1 - - [08/May/2018 14:35:51] \"\u001b[37mPOST /api HTTP/1.1\u001b[0m\" 200 -\n",
      "192.168.43.1 - - [08/May/2018 14:35:51] \"\u001b[37mPOST /api HTTP/1.1\u001b[0m\" 200 -\n",
      "192.168.43.1 - - [08/May/2018 14:35:51] \"\u001b[37mPOST /api HTTP/1.1\u001b[0m\" 200 -\n",
      "192.168.43.1 - - [08/May/2018 14:35:52] \"\u001b[37mPOST /api HTTP/1.1\u001b[0m\" 200 -\n",
      "192.168.43.1 - - [08/May/2018 14:35:52] \"\u001b[37mPOST /api HTTP/1.1\u001b[0m\" 200 -\n",
      "192.168.43.1 - - [08/May/2018 14:35:52] \"\u001b[37mPOST /api HTTP/1.1\u001b[0m\" 200 -\n",
      "192.168.43.1 - - [08/May/2018 14:35:52] \"\u001b[37mPOST /api HTTP/1.1\u001b[0m\" 200 -\n",
      "192.168.43.1 - - [08/May/2018 14:35:52] \"\u001b[37mPOST /api HTTP/1.1\u001b[0m\" 200 -\n",
      "192.168.43.1 - - [08/May/2018 14:35:52] \"\u001b[37mPOST /api HTTP/1.1\u001b[0m\" 200 -\n",
      "192.168.43.1 - - [08/May/2018 14:35:53] \"\u001b[37mPOST /api HTTP/1.1\u001b[0m\" 200 -\n",
      "192.168.43.1 - - [08/May/2018 14:35:53] \"\u001b[37mPOST /api HTTP/1.1\u001b[0m\" 200 -\n",
      "192.168.43.1 - - [08/May/2018 14:35:53] \"\u001b[37mPOST /api HTTP/1.1\u001b[0m\" 200 -\n",
      "192.168.43.1 - - [08/May/2018 14:35:53] \"\u001b[37mPOST /api HTTP/1.1\u001b[0m\" 200 -\n",
      "192.168.43.1 - - [08/May/2018 14:35:53] \"\u001b[37mPOST /api HTTP/1.1\u001b[0m\" 200 -\n",
      "192.168.43.1 - - [08/May/2018 14:35:53] \"\u001b[37mPOST /api HTTP/1.1\u001b[0m\" 200 -\n",
      "192.168.43.1 - - [08/May/2018 14:35:54] \"\u001b[37mPOST /api HTTP/1.1\u001b[0m\" 200 -\n",
      "192.168.43.1 - - [08/May/2018 14:35:54] \"\u001b[37mPOST /api HTTP/1.1\u001b[0m\" 200 -\n",
      "192.168.43.1 - - [08/May/2018 14:35:54] \"\u001b[37mPOST /api HTTP/1.1\u001b[0m\" 200 -\n",
      "192.168.43.1 - - [08/May/2018 14:35:54] \"\u001b[37mPOST /api HTTP/1.1\u001b[0m\" 200 -\n",
      "192.168.43.1 - - [08/May/2018 14:35:54] \"\u001b[37mPOST /api HTTP/1.1\u001b[0m\" 200 -\n",
      "192.168.43.1 - - [08/May/2018 14:35:55] \"\u001b[37mPOST /api HTTP/1.1\u001b[0m\" 200 -\n",
      "192.168.43.1 - - [08/May/2018 14:35:55] \"\u001b[37mPOST /api HTTP/1.1\u001b[0m\" 200 -\n",
      "192.168.43.1 - - [08/May/2018 14:35:55] \"\u001b[37mPOST /api HTTP/1.1\u001b[0m\" 200 -\n",
      "192.168.43.1 - - [08/May/2018 14:35:55] \"\u001b[37mPOST /api HTTP/1.1\u001b[0m\" 200 -\n",
      "192.168.43.1 - - [08/May/2018 14:35:56] \"\u001b[37mPOST /api HTTP/1.1\u001b[0m\" 200 -\n",
      "192.168.43.1 - - [08/May/2018 14:35:56] \"\u001b[37mPOST /api HTTP/1.1\u001b[0m\" 200 -\n",
      "192.168.43.1 - - [08/May/2018 14:35:56] \"\u001b[37mPOST /api HTTP/1.1\u001b[0m\" 200 -\n",
      "192.168.43.1 - - [08/May/2018 14:35:56] \"\u001b[37mPOST /api HTTP/1.1\u001b[0m\" 200 -\n",
      "192.168.43.1 - - [08/May/2018 14:35:56] \"\u001b[37mPOST /api HTTP/1.1\u001b[0m\" 200 -\n",
      "192.168.43.1 - - [08/May/2018 14:35:56] \"\u001b[37mPOST /api HTTP/1.1\u001b[0m\" 200 -\n",
      "192.168.43.1 - - [08/May/2018 14:35:56] \"\u001b[37mPOST /api HTTP/1.1\u001b[0m\" 200 -\n",
      "192.168.43.1 - - [08/May/2018 14:35:57] \"\u001b[37mPOST /api HTTP/1.1\u001b[0m\" 200 -\n",
      "192.168.43.1 - - [08/May/2018 14:35:57] \"\u001b[37mPOST /api HTTP/1.1\u001b[0m\" 200 -\n",
      "192.168.43.1 - - [08/May/2018 14:35:57] \"\u001b[37mPOST /api HTTP/1.1\u001b[0m\" 200 -\n",
      "192.168.43.1 - - [08/May/2018 14:35:57] \"\u001b[37mPOST /api HTTP/1.1\u001b[0m\" 200 -\n",
      "192.168.43.1 - - [08/May/2018 14:35:57] \"\u001b[37mPOST /api HTTP/1.1\u001b[0m\" 200 -\n",
      "192.168.43.1 - - [08/May/2018 14:35:57] \"\u001b[37mPOST /api HTTP/1.1\u001b[0m\" 200 -\n",
      "192.168.43.1 - - [08/May/2018 14:35:58] \"\u001b[37mPOST /api HTTP/1.1\u001b[0m\" 200 -\n",
      "192.168.43.1 - - [08/May/2018 14:35:58] \"\u001b[37mPOST /api HTTP/1.1\u001b[0m\" 200 -\n",
      "192.168.43.1 - - [08/May/2018 14:36:06] \"\u001b[37mPOST /api HTTP/1.1\u001b[0m\" 200 -\n",
      "192.168.43.1 - - [08/May/2018 14:36:06] \"\u001b[37mPOST /api HTTP/1.1\u001b[0m\" 200 -\n",
      "192.168.43.1 - - [08/May/2018 14:36:06] \"\u001b[37mPOST /api HTTP/1.1\u001b[0m\" 200 -\n",
      "192.168.43.1 - - [08/May/2018 14:36:06] \"\u001b[37mPOST /api HTTP/1.1\u001b[0m\" 200 -\n",
      "192.168.43.1 - - [08/May/2018 14:36:07] \"\u001b[37mPOST /api HTTP/1.1\u001b[0m\" 200 -\n",
      "192.168.43.1 - - [08/May/2018 14:36:07] \"\u001b[37mPOST /api HTTP/1.1\u001b[0m\" 200 -\n",
      "192.168.43.1 - - [08/May/2018 14:36:07] \"\u001b[37mPOST /api HTTP/1.1\u001b[0m\" 200 -\n",
      "192.168.43.1 - - [08/May/2018 14:36:07] \"\u001b[37mPOST /api HTTP/1.1\u001b[0m\" 200 -\n",
      "192.168.43.1 - - [08/May/2018 14:36:07] \"\u001b[37mPOST /api HTTP/1.1\u001b[0m\" 200 -\n",
      "192.168.43.1 - - [08/May/2018 14:36:08] \"\u001b[37mPOST /api HTTP/1.1\u001b[0m\" 200 -\n",
      "192.168.43.1 - - [08/May/2018 14:36:08] \"\u001b[37mPOST /api HTTP/1.1\u001b[0m\" 200 -\n",
      "192.168.43.1 - - [08/May/2018 14:36:08] \"\u001b[37mPOST /api HTTP/1.1\u001b[0m\" 200 -\n",
      "192.168.43.1 - - [08/May/2018 14:36:08] \"\u001b[37mPOST /api HTTP/1.1\u001b[0m\" 200 -\n",
      "192.168.43.1 - - [08/May/2018 14:36:09] \"\u001b[37mPOST /api HTTP/1.1\u001b[0m\" 200 -\n",
      "192.168.43.1 - - [08/May/2018 14:36:09] \"\u001b[37mPOST /api HTTP/1.1\u001b[0m\" 200 -\n",
      "192.168.43.1 - - [08/May/2018 14:36:09] \"\u001b[37mPOST /api HTTP/1.1\u001b[0m\" 200 -\n",
      "192.168.43.1 - - [08/May/2018 14:36:09] \"\u001b[37mPOST /api HTTP/1.1\u001b[0m\" 200 -\n",
      "192.168.43.1 - - [08/May/2018 14:36:09] \"\u001b[37mPOST /api HTTP/1.1\u001b[0m\" 200 -\n",
      "192.168.43.1 - - [08/May/2018 14:36:09] \"\u001b[37mPOST /api HTTP/1.1\u001b[0m\" 200 -\n",
      "192.168.43.1 - - [08/May/2018 14:36:10] \"\u001b[37mPOST /api HTTP/1.1\u001b[0m\" 200 -\n",
      "192.168.43.1 - - [08/May/2018 14:36:10] \"\u001b[37mPOST /api HTTP/1.1\u001b[0m\" 200 -\n",
      "192.168.43.1 - - [08/May/2018 14:36:10] \"\u001b[37mPOST /api HTTP/1.1\u001b[0m\" 200 -\n",
      "192.168.43.1 - - [08/May/2018 14:36:10] \"\u001b[37mPOST /api HTTP/1.1\u001b[0m\" 200 -\n",
      "192.168.43.1 - - [08/May/2018 14:36:10] \"\u001b[37mPOST /api HTTP/1.1\u001b[0m\" 200 -\n",
      "192.168.43.1 - - [08/May/2018 14:36:10] \"\u001b[37mPOST /api HTTP/1.1\u001b[0m\" 200 -\n",
      "192.168.43.1 - - [08/May/2018 14:36:11] \"\u001b[37mPOST /api HTTP/1.1\u001b[0m\" 200 -\n",
      "192.168.43.1 - - [08/May/2018 14:36:11] \"\u001b[37mPOST /api HTTP/1.1\u001b[0m\" 200 -\n",
      "192.168.43.1 - - [08/May/2018 14:36:11] \"\u001b[37mPOST /api HTTP/1.1\u001b[0m\" 200 -\n",
      "192.168.43.1 - - [08/May/2018 14:36:11] \"\u001b[37mPOST /api HTTP/1.1\u001b[0m\" 200 -\n",
      "192.168.43.1 - - [08/May/2018 14:36:11] \"\u001b[37mPOST /api HTTP/1.1\u001b[0m\" 200 -\n",
      "192.168.43.1 - - [08/May/2018 14:36:11] \"\u001b[37mPOST /api HTTP/1.1\u001b[0m\" 200 -\n",
      "192.168.43.1 - - [08/May/2018 14:36:12] \"\u001b[37mPOST /api HTTP/1.1\u001b[0m\" 200 -\n",
      "192.168.43.1 - - [08/May/2018 14:36:12] \"\u001b[37mPOST /api HTTP/1.1\u001b[0m\" 200 -\n",
      "192.168.43.1 - - [08/May/2018 14:36:12] \"\u001b[37mPOST /api HTTP/1.1\u001b[0m\" 200 -\n",
      "192.168.43.1 - - [08/May/2018 14:36:12] \"\u001b[37mPOST /api HTTP/1.1\u001b[0m\" 200 -\n",
      "192.168.43.1 - - [08/May/2018 14:36:12] \"\u001b[37mPOST /api HTTP/1.1\u001b[0m\" 200 -\n",
      "192.168.43.1 - - [08/May/2018 14:36:12] \"\u001b[37mPOST /api HTTP/1.1\u001b[0m\" 200 -\n",
      "192.168.43.1 - - [08/May/2018 14:36:13] \"\u001b[37mPOST /api HTTP/1.1\u001b[0m\" 200 -\n",
      "192.168.43.1 - - [08/May/2018 14:36:13] \"\u001b[37mPOST /api HTTP/1.1\u001b[0m\" 200 -\n",
      "192.168.43.1 - - [08/May/2018 14:36:13] \"\u001b[37mPOST /api HTTP/1.1\u001b[0m\" 200 -\n",
      "192.168.43.1 - - [08/May/2018 14:36:13] \"\u001b[37mPOST /api HTTP/1.1\u001b[0m\" 200 -\n",
      "192.168.43.1 - - [08/May/2018 14:36:13] \"\u001b[37mPOST /api HTTP/1.1\u001b[0m\" 200 -\n",
      "192.168.43.1 - - [08/May/2018 14:36:13] \"\u001b[37mPOST /api HTTP/1.1\u001b[0m\" 200 -\n",
      "192.168.43.1 - - [08/May/2018 14:36:14] \"\u001b[37mPOST /api HTTP/1.1\u001b[0m\" 200 -\n",
      "192.168.43.1 - - [08/May/2018 14:36:14] \"\u001b[37mPOST /api HTTP/1.1\u001b[0m\" 200 -\n"
     ]
    },
    {
     "name": "stderr",
     "output_type": "stream",
     "text": [
      "192.168.43.1 - - [08/May/2018 14:36:14] \"\u001b[37mPOST /api HTTP/1.1\u001b[0m\" 200 -\n",
      "192.168.43.1 - - [08/May/2018 14:36:14] \"\u001b[37mPOST /api HTTP/1.1\u001b[0m\" 200 -\n",
      "192.168.43.1 - - [08/May/2018 14:36:14] \"\u001b[37mPOST /api HTTP/1.1\u001b[0m\" 200 -\n",
      "192.168.43.1 - - [08/May/2018 14:36:14] \"\u001b[37mPOST /api HTTP/1.1\u001b[0m\" 200 -\n",
      "192.168.43.1 - - [08/May/2018 14:36:14] \"\u001b[37mPOST /api HTTP/1.1\u001b[0m\" 200 -\n",
      "192.168.43.1 - - [08/May/2018 14:36:14] \"\u001b[37mPOST /api HTTP/1.1\u001b[0m\" 200 -\n",
      "192.168.43.1 - - [08/May/2018 14:36:14] \"\u001b[37mPOST /api HTTP/1.1\u001b[0m\" 200 -\n",
      "192.168.43.1 - - [08/May/2018 14:36:15] \"\u001b[37mPOST /api HTTP/1.1\u001b[0m\" 200 -\n",
      "192.168.43.1 - - [08/May/2018 14:36:15] \"\u001b[37mPOST /api HTTP/1.1\u001b[0m\" 200 -\n",
      "192.168.43.1 - - [08/May/2018 14:36:15] \"\u001b[37mPOST /api HTTP/1.1\u001b[0m\" 200 -\n",
      "192.168.43.1 - - [08/May/2018 14:36:15] \"\u001b[37mPOST /api HTTP/1.1\u001b[0m\" 200 -\n",
      "192.168.43.1 - - [08/May/2018 14:36:15] \"\u001b[37mPOST /api HTTP/1.1\u001b[0m\" 200 -\n",
      "192.168.43.1 - - [08/May/2018 14:36:15] \"\u001b[37mPOST /api HTTP/1.1\u001b[0m\" 200 -\n"
     ]
    }
   ],
   "source": [
    "app=Flask(__name__)\n",
    "@app.route('/api',methods=['POST'])\n",
    "def make_predict():\n",
    "    data=request.get_json(force=True)\n",
    "    data=str(data['sentence2'])\n",
    "    sentence=clean_data(word_tokenize(data))\n",
    "    sentence = list([sentence])\n",
    "    test_sentence = tfidf_vec.transform(sentence)\n",
    "    z=clf.predict(test_sentence)\n",
    "    output=[str(z[0])]\n",
    "    return jsonify(results=output)\n",
    "\n",
    "if __name__ == '__main__':\n",
    "    app.run(host='0.0.0.0',port=9000,debug=True,use_reloader=False)"
   ]
  }
 ],
 "metadata": {
  "kernelspec": {
   "display_name": "Python 3",
   "language": "python",
   "name": "python3"
  },
  "language_info": {
   "codemirror_mode": {
    "name": "ipython",
    "version": 3
   },
   "file_extension": ".py",
   "mimetype": "text/x-python",
   "name": "python",
   "nbconvert_exporter": "python",
   "pygments_lexer": "ipython3",
   "version": "3.6.1"
  }
 },
 "nbformat": 4,
 "nbformat_minor": 2
}
